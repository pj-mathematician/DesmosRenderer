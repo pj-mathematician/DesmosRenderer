{
  "nbformat": 4,
  "nbformat_minor": 0,
  "metadata": {
    "colab": {
      "name": "desmos.ipynb",
      "provenance": [],
      "collapsed_sections": [],
      "authorship_tag": "ABX9TyNOIPL5Di4DxItBLt+UxKVq",
      "include_colab_link": true
    },
    "kernelspec": {
      "name": "python3",
      "display_name": "Python 3"
    },
    "language_info": {
      "name": "python"
    }
  },
  "cells": [
    {
      "cell_type": "markdown",
      "metadata": {
        "id": "view-in-github",
        "colab_type": "text"
      },
      "source": [
        "<a href=\"https://colab.research.google.com/github/pj-mathematician/DesmosRenderer/blob/main/desmos.ipynb\" target=\"_parent\"><img src=\"https://colab.research.google.com/assets/colab-badge.svg\" alt=\"Open In Colab\"/></a>"
      ]
    },
    {
      "cell_type": "code",
      "metadata": {
        "id": "W7OngNBCDKgN"
      },
      "source": [
        "!git clone https://github.com/kevinjycui/DesmosBezierRenderer.git\n",
        "#!cd DesmosBezierRenderer && pip3 install -r requirements.txt"
      ],
      "execution_count": null,
      "outputs": []
    },
    {
      "cell_type": "code",
      "metadata": {
        "id": "xlLWDr_6FOjz"
      },
      "source": [
        "!apt update\n",
        "!apt install git python3-dev python3-pip build-essential libagg-dev libpotrace-dev pkg-config"
      ],
      "execution_count": null,
      "outputs": []
    },
    {
      "cell_type": "code",
      "metadata": {
        "id": "HoZiz89GGmVx"
      },
      "source": [
        "!pip install potracer, flask_cors"
      ],
      "execution_count": null,
      "outputs": []
    },
    {
      "cell_type": "code",
      "metadata": {
        "id": "NHn2J-L0DsiI"
      },
      "source": [
        "!cd DesmosBezierRenderer && python backend.py"
      ],
      "execution_count": null,
      "outputs": []
    }
  ]
}