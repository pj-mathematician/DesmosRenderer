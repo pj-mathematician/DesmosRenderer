{
  "nbformat": 4,
  "nbformat_minor": 0,
  "metadata": {
    "colab": {
      "name": "desmos.ipynb",
      "provenance": [],
      "collapsed_sections": [],
      "authorship_tag": "ABX9TyMVbzFOk9bdAz1gj3PFuDiz",
      "include_colab_link": true
    },
    "kernelspec": {
      "name": "python3",
      "display_name": "Python 3"
    },
    "language_info": {
      "name": "python"
    }
  },
  "cells": [
    {
      "cell_type": "markdown",
      "metadata": {
        "id": "view-in-github",
        "colab_type": "text"
      },
      "source": [
        "<a href=\"https://colab.research.google.com/github/pj-mathematician/DesmosRenderer/blob/main/desmos.ipynb\" target=\"_parent\"><img src=\"https://colab.research.google.com/assets/colab-badge.svg\" alt=\"Open In Colab\"/></a>"
      ]
    },
    {
      "cell_type": "code",
      "metadata": {
        "id": "W7OngNBCDKgN"
      },
      "source": [
        "!git clone https://github.com/kevinjycui/DesmosBezierRenderer.git\n",
        "#!cd DesmosBezierRenderer && pip3 install -r requirements.txt"
      ],
      "execution_count": null,
      "outputs": []
    },
    {
      "cell_type": "code",
      "metadata": {
        "id": "xlLWDr_6FOjz"
      },
      "source": [
        "!apt update\n",
        "!apt install git python3-dev python3-pip build-essential libagg-dev libpotrace-dev pkg-config"
      ],
      "execution_count": null,
      "outputs": []
    },
    {
      "cell_type": "code",
      "metadata": {
        "id": "HoZiz89GGmVx",
        "colab": {
          "base_uri": "https://localhost:8080/"
        },
        "outputId": "64a7bc5d-abf3-4630-f190-4a4186c36363"
      },
      "source": [
        "!pip install potracer flask_cors"
      ],
      "execution_count": 3,
      "outputs": [
        {
          "output_type": "stream",
          "name": "stdout",
          "text": [
            "Collecting potracer\n",
            "  Downloading potracer-0.0.1-py2.py3-none-any.whl (24 kB)\n",
            "Collecting flask_cors\n",
            "  Downloading Flask_Cors-3.0.10-py2.py3-none-any.whl (14 kB)\n",
            "Requirement already satisfied: numpy in /usr/local/lib/python3.7/dist-packages (from potracer) (1.19.5)\n",
            "Requirement already satisfied: Flask>=0.9 in /usr/local/lib/python3.7/dist-packages (from flask_cors) (1.1.4)\n",
            "Requirement already satisfied: Six in /usr/local/lib/python3.7/dist-packages (from flask_cors) (1.15.0)\n",
            "Requirement already satisfied: Jinja2<3.0,>=2.10.1 in /usr/local/lib/python3.7/dist-packages (from Flask>=0.9->flask_cors) (2.11.3)\n",
            "Requirement already satisfied: itsdangerous<2.0,>=0.24 in /usr/local/lib/python3.7/dist-packages (from Flask>=0.9->flask_cors) (1.1.0)\n",
            "Requirement already satisfied: Werkzeug<2.0,>=0.15 in /usr/local/lib/python3.7/dist-packages (from Flask>=0.9->flask_cors) (1.0.1)\n",
            "Requirement already satisfied: click<8.0,>=5.1 in /usr/local/lib/python3.7/dist-packages (from Flask>=0.9->flask_cors) (7.1.2)\n",
            "Requirement already satisfied: MarkupSafe>=0.23 in /usr/local/lib/python3.7/dist-packages (from Jinja2<3.0,>=2.10.1->Flask>=0.9->flask_cors) (2.0.1)\n",
            "Installing collected packages: potracer, flask-cors\n",
            "Successfully installed flask-cors-3.0.10 potracer-0.0.1\n"
          ]
        }
      ]
    },
    {
      "cell_type": "code",
      "metadata": {
        "id": "NHn2J-L0DsiI",
        "colab": {
          "base_uri": "https://localhost:8080/"
        },
        "outputId": "8cf8267e-34e2-4579-9231-cc836310de05"
      },
      "source": [
        "!cd DesmosBezierRenderer && python backend.py"
      ],
      "execution_count": null,
      "outputs": [
        {
          "output_type": "stream",
          "name": "stdout",
          "text": [
            "Desmos Bezier Renderer\n",
            "Junferno 2021\n",
            "https://github.com/kevinjycui/DesmosBezierRenderer\n",
            "-----------------------------\n",
            "Processing 3 frames... Please wait for processing to finish before running on frontend\n",
            "\n",
            "\r--> Frame 1/3\r--> Frame 2/3multiprocessing.pool.RemoteTraceback: \n",
            "\"\"\"\n",
            "Traceback (most recent call last):\n",
            "  File \"/usr/lib/python3.7/multiprocessing/pool.py\", line 121, in worker\n",
            "    result = (True, func(*args, **kwds))\n",
            "  File \"/usr/lib/python3.7/multiprocessing/pool.py\", line 44, in mapstar\n",
            "    return list(map(*args))\n",
            "  File \"backend.py\", line 87, in get_expressions\n",
            "    for expr in get_latex(FRAME_DIR + '/frame%d.%s' % (frame+1, FILE_EXT)):\n",
            "  File \"backend.py\", line 62, in get_latex\n",
            "    path = get_trace(get_contours(filename))\n",
            "  File \"backend.py\", line 55, in get_trace\n",
            "    bmp = potrace.Bitmap(data)\n",
            "AttributeError: module 'potrace' has no attribute 'Bitmap'\n",
            "\"\"\"\n",
            "\n",
            "The above exception was the direct cause of the following exception:\n",
            "\n",
            "Traceback (most recent call last):\n",
            "  File \"backend.py\", line 108, in <module>\n",
            "    frame_latex = pool.map(get_expressions, frame_latex)\n",
            "  File \"/usr/lib/python3.7/multiprocessing/pool.py\", line 268, in map\n",
            "    return self._map_async(func, iterable, mapstar, chunksize).get()\n",
            "  File \"/usr/lib/python3.7/multiprocessing/pool.py\", line 657, in get\n",
            "    raise self._value\n",
            "AttributeError: module 'potrace' has no attribute 'Bitmap'\n"
          ]
        }
      ]
    },
    {
      "cell_type": "code",
      "metadata": {
        "id": "-3XPE-hrRBIY",
        "colab": {
          "base_uri": "https://localhost:8080/",
          "height": 216
        },
        "outputId": "79bc1465-faca-4dfd-9fd1-2f6d88624ee7"
      },
      "source": [
        "import potrace\n"
      ],
      "execution_count": 18,
      "outputs": [
        {
          "output_type": "error",
          "ename": "AttributeError",
          "evalue": "ignored",
          "traceback": [
            "\u001b[0;31m---------------------------------------------------------------------------\u001b[0m",
            "\u001b[0;31mAttributeError\u001b[0m                            Traceback (most recent call last)",
            "\u001b[0;32m<ipython-input-18-e428dfe9c6a6>\u001b[0m in \u001b[0;36m<module>\u001b[0;34m()\u001b[0m\n\u001b[1;32m      1\u001b[0m \u001b[0;32mimport\u001b[0m \u001b[0mpotrace\u001b[0m\u001b[0;34m\u001b[0m\u001b[0;34m\u001b[0m\u001b[0m\n\u001b[0;32m----> 2\u001b[0;31m \u001b[0mpotrace\u001b[0m\u001b[0;34m.\u001b[0m\u001b[0mpotrace\u001b[0m\u001b[0;34m\u001b[0m\u001b[0;34m\u001b[0m\u001b[0m\n\u001b[0m",
            "\u001b[0;31mAttributeError\u001b[0m: module 'potrace' has no attribute 'potrace'"
          ]
        }
      ]
    }
  ]
}